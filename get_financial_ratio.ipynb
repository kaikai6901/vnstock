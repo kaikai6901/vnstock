{
 "cells": [
  {
   "cell_type": "code",
   "execution_count": null,
   "metadata": {},
   "outputs": [],
   "source": [
    "import requests\n",
    "from utils.helper import *\n",
    "from utils.config import dbInfor\n",
    "import numpy as np\n",
    "import pandas as pd\n",
    "import pymysql\n",
    "import sqlalchemy\n",
    "import sys\n",
    "from datetime import datetime, timedelta\n",
    "\n",
    "con = get_mysql_connection()\n",
    "query_ticker = \"select distinct ticker from ticker_overview\"\n",
    "list_ticker = get_data_from_mysql(con, query_ticker)"
   ]
  },
  {
   "cell_type": "code",
   "execution_count": 8,
   "metadata": {},
   "outputs": [],
   "source": [
    "con.close()"
   ]
  },
  {
   "cell_type": "code",
   "execution_count": 9,
   "metadata": {},
   "outputs": [],
   "source": [
    "engine = create_mysql_engine()"
   ]
  },
  {
   "cell_type": "code",
   "execution_count": 3,
   "metadata": {},
   "outputs": [],
   "source": [
    "ticker = 'FPT'\n",
    "frequent = 0"
   ]
  },
  {
   "cell_type": "code",
   "execution_count": 4,
   "metadata": {},
   "outputs": [],
   "source": [
    "financial_ratioURL = f'https://apipubaws.tcbs.com.vn/tcanalysis/v1/finance/{ticker}/financialratio?yearly={frequent}&isAll=true'\n",
    "response = requests.get(financial_ratioURL)\n",
    "data = pd.DataFrame(response.json())"
   ]
  },
  {
   "cell_type": "code",
   "execution_count": 14,
   "metadata": {},
   "outputs": [
    {
     "name": "stdout",
     "output_type": "stream",
     "text": [
      "20\n",
      "40\n",
      "60\n",
      "80\n",
      "100\n",
      "120\n",
      "140\n",
      "160\n",
      "180\n",
      "200\n",
      "220\n",
      "240\n",
      "260\n",
      "280\n",
      "300\n",
      "320\n",
      "340\n",
      "360\n",
      "380\n",
      "400\n",
      "420\n",
      "440\n",
      "460\n",
      "480\n",
      "500\n",
      "520\n",
      "540\n",
      "560\n",
      "580\n",
      "600\n",
      "620\n",
      "640\n",
      "660\n",
      "680\n",
      "700\n",
      "720\n",
      "740\n",
      "760\n",
      "780\n",
      "800\n",
      "820\n",
      "840\n",
      "860\n",
      "880\n",
      "900\n",
      "920\n",
      "940\n",
      "960\n",
      "980\n",
      "1000\n",
      "1020\n",
      "1040\n",
      "1060\n",
      "1080\n",
      "1100\n",
      "1120\n",
      "1140\n",
      "1160\n",
      "1180\n",
      "1200\n",
      "1220\n",
      "1240\n",
      "1260\n",
      "1280\n",
      "1300\n",
      "1320\n",
      "1340\n",
      "1360\n",
      "1380\n",
      "1400\n",
      "1420\n",
      "1440\n"
     ]
    }
   ],
   "source": [
    "i = 0\n",
    "for ticker in list_ticker['ticker']:\n",
    "    i += 1\n",
    "    for frequent in [0, 1]:\n",
    "        try:\n",
    "            financial_ratioURL = f'https://apipubaws.tcbs.com.vn/tcanalysis/v1/finance/{ticker}/financialratio?yearly={frequent}&isAll=true'\n",
    "            response = requests.get(financial_ratioURL)\n",
    "            data = pd.DataFrame(response.json())\n",
    "            if len(data) == 0:\n",
    "                continue\n",
    "            data = data.drop_duplicates(subset=['ticker', 'year', 'quarter'])\n",
    "            data[['ticker', 'quarter', 'year', 'priceToEarning', 'priceToBook',\n",
    "        'valueBeforeEbitda', 'roe', 'roa', 'earningPerShare',\n",
    "        'bookValuePerShare', 'equityOnTotalAsset', 'grossProfitMargin', 'operatingProfitMargin',\n",
    "        'postTaxMargin', 'debtOnEquity', 'debtOnAsset', 'debtOnEbitda',\n",
    "        'shortOnLongDebt', 'assetOnEquity', 'capitalBalance', 'cashOnEquity',\n",
    "        'cashOnCapitalize', 'revenueOnAsset']].to_sql(con=engine, name='financial_ratio', if_exists='append', index=False)\n",
    "        except Exception as e:\n",
    "            print(ticker)\n",
    "            print(e)    \n",
    "    if i % 20 == 0:\n",
    "        print(i)"
   ]
  },
  {
   "cell_type": "code",
   "execution_count": null,
   "metadata": {},
   "outputs": [],
   "source": []
  }
 ],
 "metadata": {
  "kernelspec": {
   "display_name": "Python 3.9.13 ('base')",
   "language": "python",
   "name": "python3"
  },
  "language_info": {
   "codemirror_mode": {
    "name": "ipython",
    "version": 3
   },
   "file_extension": ".py",
   "mimetype": "text/x-python",
   "name": "python",
   "nbconvert_exporter": "python",
   "pygments_lexer": "ipython3",
   "version": "3.9.13"
  },
  "orig_nbformat": 4,
  "vscode": {
   "interpreter": {
    "hash": "1ae45ef926c2156fad125809675b8c9f08e89217e28e18206c4d9110355a3e92"
   }
  }
 },
 "nbformat": 4,
 "nbformat_minor": 2
}
